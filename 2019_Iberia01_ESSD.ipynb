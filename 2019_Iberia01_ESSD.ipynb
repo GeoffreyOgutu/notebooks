{
 "cells": [
  {
   "cell_type": "markdown",
   "metadata": {},
   "source": [
    "# Iberia01 - A new gridded dataset of daily precipitation and temperatures over Iberia.\n",
    "\n",
    "Abstract: Iberia01 is a gridded dataset of daily precipitation and mean, maximum and minimum daily temperatures over the Iberian Peninsula covering the period 1971-2015 and reaching a spatial resolution of 0.1º. This dataset has been developed based on previous works done for Spain and Portugal. The present annex includes the code, in R, to reproduce some of the figures shown in the paper Herrera et al. 2019 submitted to Earth System Science Data (ESSD).\n",
    "\n",
    "## S. Herrera, R.M. Cardoso, P.M.M. Soares, F. Espírito-Santo & J. M Gutiérrez"
   ]
  },
  {
   "cell_type": "markdown",
   "metadata": {},
   "source": [
    "## R PACKAGE REQUIREMENTS \n",
    "\n",
    "The following R packages (R Core Team 2017) are required to follow the examples. Note the last **Session Information Section** of this manual, where the specific package versions used to build these examples are indicated.\n",
    "\n",
    "### Installing the adequate version\n",
    "\n",
    "All the *climate4R* packages are currently under active development. Thus, to ensure the reproducibility of these examples, it is recommend to install the same versions of the packages that produced this document, even though in most cases more recent versions exist. The package versions used are indicated in the Session Information Section at the end of this document. The function `install_github` from package `devtools` (Wickham and Chang 2016) is recommended to install a particular package version from the GitHub repositories. For, instance, to install `transformeR` v0.0.14, it suffices with pointing to the specific version tag after the `@` symbol. \n",
    "\n",
    "Thus, in order to install the proper versions of the packages of the *climate4R* bundle needed to run these examples: \n",
    "  "
   ]
  },
  {
   "cell_type": "code",
   "execution_count": null,
   "metadata": {
    "collapsed": true
   },
   "outputs": [],
   "source": [
    "## devtools::install_github(c(\"SantanderMetGroup/transformeR\", \"SantanderMetGroup/convertR\",\n",
    "                           \"SantanderMetGroup/loadeR\", \"SantanderMetGroup/visualizeR\"))"
   ]
  },
  {
   "cell_type": "code",
   "execution_count": null,
   "metadata": {
    "collapsed": true
   },
   "outputs": [],
   "source": [
    "rm(list = ls())\n",
    "## options(java.parameters = \"-Xmx8000m\")\n",
    "library(loadeR, lib.loc = \"~/R/x86_64-pc-linux-gnu-library/3.5/\")"
   ]
  },
  {
   "cell_type": "markdown",
   "metadata": {},
   "source": [
    "### R package for data loading\n",
    "\n",
    "The R package `loadeR` will perform the data loading task, including authentication against the Santander User Data Gateway (UDG) server (see the [installation instructions](http://meteo.unican.es/ecoms-udg/RPackage/versions)) and enabling the access to any remote dataset via OPeNDAP (more details in the [loadeR's wiki page](https://github.com/SantanderMetGroup/loadeR/wiki)), as well as creating and accesing datasets locally.\n",
    "                     \n",
    "Prior to data access through the Santander User Data Gateway, authentication is required to access the UDG. The authentication is performed in one step:"
   ]
  },
  {
   "cell_type": "markdown",
   "metadata": {},
   "source": [
    "loginUDG(username = \"jDoe\", password = \"*****\")"
   ]
  },
  {
   "cell_type": "markdown",
   "metadata": {},
   "source": [
    "### R package for data post-processing and plotting\n",
    "\n",
    "In addition, the R package `transformeR` (Bedia and Iturbide 2017) enables climate data transformation (plotting, aggregation, subsetting, PCA/EOF analysis ...). Further details on its capabilities and installation instructions are available in the [wiki page](https://github.com/SantanderMetGroup/transformeR/wiki). It is seamlessly integrated with the data structures provided by `loadeR.ECOMS`."
   ]
  },
  {
   "cell_type": "code",
   "execution_count": null,
   "metadata": {
    "collapsed": true
   },
   "outputs": [],
   "source": [
    "library(transformeR, lib.loc = \"~/R/x86_64-pc-linux-gnu-library/3.5/\")\n",
    "library(convertR, lib.loc = \"~/R/x86_64-pc-linux-gnu-library/3.5/\")"
   ]
  },
  {
   "cell_type": "markdown",
   "metadata": {},
   "source": [
    "### Additional packages\n",
    "\n",
    "#### Functions for Extreme Value Distributions (evd):\n",
    "\n",
    "In order to illustrate the analysis included in Herrera et al. 2019 the [evd](https://cran.r-project.org/web/packages/evd/index.html) package should be installed to obtain the Generalized Extreme Value (GEV) distribution."
   ]
  },
  {
   "cell_type": "code",
   "execution_count": null,
   "metadata": {
    "collapsed": true
   },
   "outputs": [],
   "source": [
    "## install.packages(\"evd\")\n",
    "library(evd, lib.loc = \"~/R/x86_64-pc-linux-gnu-library/3.5/\")"
   ]
  },
  {
   "cell_type": "markdown",
   "metadata": {},
   "source": [
    "In order to extend the analysis shown in this document to other indices, the reader can consider the following R packages to easily estimate other climate and drought indices.\n",
    "\n",
    "#### R package for Climate Indices calculation: \n",
    "\n",
    "`climate4R.indices` is the package to compute several indices within the climate4R framework, therefore is seamlessly integrated with the climate4R data structures, and provides support for parallel computing."
   ]
  },
  {
   "cell_type": "code",
   "execution_count": null,
   "metadata": {
    "collapsed": true
   },
   "outputs": [],
   "source": [
    "## devtools::install_github(c(\"SantanderMetGroup/climate4R.indices\"))\n",
    "library(climate4R.indices, lib.loc = \"~/R/x86_64-pc-linux-gnu-library/3.5/\")\n",
    "indexShow()\n",
    "?indexGrid   # see the examples "
   ]
  },
  {
   "cell_type": "markdown",
   "metadata": {},
   "source": [
    "#### Colour Palettes:\n",
    "\n",
    "The package `RColorBrewer` is used to replicate the spectral color palette used in the paper in the correlation maps. Next, the palette `veri.colors` is defined, that will be used in the verification maps:"
   ]
  },
  {
   "cell_type": "code",
   "execution_count": null,
   "metadata": {
    "collapsed": true
   },
   "outputs": [],
   "source": [
    "library(RColorBrewer, lib.loc = \"~/R/x86_64-pc-linux-gnu-library/3.5/\")\n",
    "cols <- brewer.pal(n = 11, name = \"Spectral\")\n",
    "veri.colors <- colorRampPalette(rev(cols))"
   ]
  },
  {
   "cell_type": "markdown",
   "metadata": {},
   "source": [
    "## Daily Precipitation Climatology:\n",
    "\n",
    "First, we obtain the daily precipitation climatology and the differences between both datasets, Iberia01 and E-OBS v17.0. To this aim, the dataset and geographical domain should be defined:"
   ]
  },
  {
   "cell_type": "code",
   "execution_count": null,
   "metadata": {
    "collapsed": true
   },
   "outputs": [],
   "source": [
    "eobsNcML <- \"http://opendap.knmi.nl/knmi/thredds/dodsC/e-obs_0.25regular/rr_0.25deg_reg_v17.0.nc\"\n",
    "ib01NcML <- \"http://meteo.unican.es/tds5/dodsC/Iberia01/Iberia01_v1.0_010reg_aa_3d.ncml\"\n",
    "## Defining the temporal and geographical domain:\n",
    "latLim <- c(34, 44)\n",
    "lonLim <- c(-10, 6)\n",
    "years <- c(1971:2010)"
   ]
  },
  {
   "cell_type": "markdown",
   "metadata": {},
   "source": [
    "### E-OBS v17.0:\n",
    "\n",
    "First, we obtain the climatology for the E-OBS v17.0 dataset. To this aim we should know the variables included in the dataset"
   ]
  },
  {
   "cell_type": "code",
   "execution_count": null,
   "metadata": {
    "collapsed": true
   },
   "outputs": [],
   "source": [
    "di <- dataInventory(eobsNcML)\n",
    "## Variables:\n",
    "names(di)"
   ]
  },
  {
   "cell_type": "markdown",
   "metadata": {},
   "source": [
    "and load the corresponding data:"
   ]
  },
  {
   "cell_type": "code",
   "execution_count": null,
   "metadata": {
    "collapsed": true
   },
   "outputs": [],
   "source": [
    "pr.eobs <- loadGridData(eobsNcML, \"rr\", dictionary = FALSE, lonLim = lonLim, latLim = latLim, \n",
    "                           season = c(1:12), years = years, time = \"DD\", aggr.d = \"sum\")\n",
    "setGridUnits(pr.eobs, \"mm\", var = \"rr\")\n",
    "pr.eobs <- climatology(pr.eobs, clim.fun = list(FUN = \"mean\", na.rm = TRUE))\n",
    "spatialPlot(pr.eobs, backdrop.theme = \"countries\", at = seq(-0.5,6,0.5), \n",
    "            col.regions = veri.colors(51), colorkey = list(space = \"bottom\"), \n",
    "            main = \"Precipitation (1971-2010)\")"
   ]
  },
  {
   "cell_type": "markdown",
   "metadata": {},
   "source": [
    "### Iberia01:\n",
    "\n",
    "Now, we consider the Iberia01 dataset:"
   ]
  },
  {
   "cell_type": "code",
   "execution_count": null,
   "metadata": {
    "collapsed": true
   },
   "outputs": [],
   "source": [
    "di <- dataInventory(ib01NcML)\n",
    "## Variables:\n",
    "names(di)"
   ]
  },
  {
   "cell_type": "code",
   "execution_count": null,
   "metadata": {
    "collapsed": true
   },
   "outputs": [],
   "source": [
    "pr.Ib01 <- loadGridData(ib01NcML, \"pr\", dictionary = FALSE, lonLim = lonLim, latLim = latLim, \n",
    "                           season = c(1:12), years = years, time = \"DD\", aggr.d = \"sum\")\n",
    "setGridUnits(pr.Ib01, \"mm\", var = \"pr\")\n",
    "pr.Ib01 <- climatology(pr.Ib01, clim.fun = list(FUN = \"mean\", na.rm = TRUE))\n",
    "spatialPlot(pr.Ib01, backdrop.theme = \"countries\", at = seq(-0.5,6,0.5), \n",
    "            col.regions = veri.colors(51), colorkey = list(space = \"bottom\"), \n",
    "            main = \"Precipitation (1971-2010)\")"
   ]
  },
  {
   "cell_type": "markdown",
   "metadata": {},
   "source": [
    "In order to obtain the difference between both datasets, we interpolate E-OBS v17.0 to the grid of the Iberian01 dataset:"
   ]
  },
  {
   "cell_type": "code",
   "execution_count": null,
   "metadata": {
    "collapsed": true
   },
   "outputs": [],
   "source": [
    "## E-OBS climatology is regridded to the Iberian01 grid:\n",
    "pr.eobs <- interpGrid(pr.eobs, new.coordinates = getGrid(pr.Ib01), method = \"nearest\")"
   ]
  },
  {
   "cell_type": "markdown",
   "metadata": {},
   "source": [
    "### Differences between E-OBS v17.0 and Iberia01:\n",
    "- Bias:"
   ]
  },
  {
   "cell_type": "code",
   "execution_count": null,
   "metadata": {
    "collapsed": true
   },
   "outputs": [],
   "source": [
    "bias <- gridArithmetics(pr.eobs, pr.Ib01, operator = \"-\")\n",
    "spatialPlot(bias, backdrop.theme = \"countries\", at = seq(-3,3,0.5), \n",
    "            col.regions = veri.colors(51), colorkey = list(space = \"bottom\"), \n",
    "            main = \"Bias (1971-2010)\")"
   ]
  },
  {
   "cell_type": "markdown",
   "metadata": {},
   "source": [
    "- Relative Bias:"
   ]
  },
  {
   "cell_type": "code",
   "execution_count": null,
   "metadata": {
    "collapsed": true
   },
   "outputs": [],
   "source": [
    "## Relative Bias\n",
    "C <- 100\n",
    "relBias <- gridArithmetics(pr.eobs, pr.Ib01, pr.Ib01, C, operator = c(\"-\", \"/\", \"*\"))\n",
    "spatialPlot(relBias, backdrop.theme = \"countries\", at = seq(-100,100,10), \n",
    "            col.regions = veri.colors(51), colorkey = list(space = \"bottom\"), \n",
    "            main = \"Relative Bias (1971-2010)\")"
   ]
  },
  {
   "cell_type": "code",
   "execution_count": null,
   "metadata": {
    "collapsed": true
   },
   "outputs": [],
   "source": [
    "## Cleaning the workspace:\n",
    "rm(list=c(\"pr.Ib01\", \"pr.eobs\", \"bias\", \"relBias\"))"
   ]
  },
  {
   "cell_type": "markdown",
   "metadata": {},
   "source": [
    "## Mean Daily Temperature:\n",
    "\n",
    "Once the climatologies for some precipitation indices have been obtained we show the climatology of mean temperature. Note that, in this case, the datasets should be redefined, at least for E-OBS v17.0:"
   ]
  },
  {
   "cell_type": "code",
   "execution_count": null,
   "metadata": {
    "collapsed": true
   },
   "outputs": [],
   "source": [
    "eobsNcML <- \"http://opendap.knmi.nl/knmi/thredds/dodsC/e-obs_0.25regular/tg_0.25deg_reg_v17.0.nc\"\n",
    "ib01NcML <- \"http://meteo.unican.es/tds5/dodsC/Iberia01/Iberia01_v1.0_010reg_aa_3d.ncml\"\n",
    "## Defining the temporal and geographical domain:\n",
    "latLim <- c(34, 44)\n",
    "lonLim <- c(-10, 6)\n",
    "years <- c(1971:2010)"
   ]
  },
  {
   "cell_type": "markdown",
   "metadata": {},
   "source": [
    "### E-OBS v17.0:\n",
    "\n",
    "First, we obtain the climatology for the E-OBS v17.0 dataset. To this aim we should know the variables included in the dataset"
   ]
  },
  {
   "cell_type": "code",
   "execution_count": null,
   "metadata": {
    "collapsed": true
   },
   "outputs": [],
   "source": [
    "di <- dataInventory(eobsNcML)\n",
    "## Variables:\n",
    "names(di)"
   ]
  },
  {
   "cell_type": "markdown",
   "metadata": {},
   "source": [
    "and load the corresponding data:"
   ]
  },
  {
   "cell_type": "code",
   "execution_count": null,
   "metadata": {
    "collapsed": true
   },
   "outputs": [],
   "source": [
    "tg.eobs <- loadGridData(eobsNcML, \"tg\", dictionary = FALSE, lonLim = lonLim, latLim = latLim, \n",
    "                           season = c(1:12), years = years, time = \"DD\", aggr.d = \"mean\")\n",
    "tg.eobs <- climatology(tg.eobs, clim.fun = list(FUN = \"mean\", na.rm = TRUE))\n",
    "spatialPlot(tg.eobs, backdrop.theme = \"countries\", at = seq(0,25,1), \n",
    "            col.regions = veri.colors(51), colorkey = list(space = \"bottom\"), \n",
    "            main = \"Mean Temperature (1971-2010)\")"
   ]
  },
  {
   "cell_type": "markdown",
   "metadata": {},
   "source": [
    "### Iberia01:\n",
    "\n",
    "Now, we consider the Iberia01 dataset:"
   ]
  },
  {
   "cell_type": "code",
   "execution_count": null,
   "metadata": {
    "collapsed": true
   },
   "outputs": [],
   "source": [
    "di <- dataInventory(ib01NcML)\n",
    "## Variables:\n",
    "names(di)"
   ]
  },
  {
   "cell_type": "code",
   "execution_count": null,
   "metadata": {
    "collapsed": true
   },
   "outputs": [],
   "source": [
    "tg.Ib01 <- loadGridData(ib01NcML, \"tas\", dictionary = FALSE, lonLim = lonLim, latLim = latLim, \n",
    "                           season = c(1:12), years = years, time = \"DD\", aggr.d = \"mean\")\n",
    "tg.Ib01 <- climatology(tg.Ib01, clim.fun = list(FUN = \"mean\", na.rm = TRUE))\n",
    "spatialPlot(tg.Ib01, backdrop.theme = \"countries\", at = seq(0,25,1), \n",
    "            col.regions = veri.colors(51), colorkey = list(space = \"bottom\"), \n",
    "            main = \"Mean Temperature (1971-2010)\")"
   ]
  },
  {
   "cell_type": "markdown",
   "metadata": {},
   "source": [
    "In order to obtain the difference between both datasets, we interpolate E-OBS v17.0 to the grid of the Iberian01 dataset:"
   ]
  },
  {
   "cell_type": "code",
   "execution_count": null,
   "metadata": {
    "collapsed": true
   },
   "outputs": [],
   "source": [
    "## E-OBS climatology is regridded to the Iberian01 grid:\n",
    "tg.eobs <- interpGrid(tg.eobs, new.coordinates = getGrid(tg.Ib01), method = \"nearest\")"
   ]
  },
  {
   "cell_type": "markdown",
   "metadata": {},
   "source": [
    "### Differences between E-OBS v17.0 and Iberia01:\n",
    "- Bias:"
   ]
  },
  {
   "cell_type": "code",
   "execution_count": null,
   "metadata": {
    "collapsed": true
   },
   "outputs": [],
   "source": [
    "bias <- gridArithmetics(tg.eobs, tg.Ib01, operator = \"-\")\n",
    "spatialPlot(bias, backdrop.theme = \"countries\", at = seq(-5,5,0.5), \n",
    "            col.regions = veri.colors(51), colorkey = list(space = \"bottom\"), \n",
    "            main = \"Bias (1971-2010)\")"
   ]
  },
  {
   "cell_type": "code",
   "execution_count": null,
   "metadata": {
    "collapsed": true
   },
   "outputs": [],
   "source": [
    "## Cleaning the workspace:\n",
    "rm(list=c(\"tg.Ib01\", \"tg.eobs\", \"bias\"))"
   ]
  },
  {
   "cell_type": "markdown",
   "metadata": {},
   "source": [
    "## References:\n",
    "\n",
    "* Bedia, J. and Iturbide, M., 2017. `transformeR`: Climate data post-processing. R package version 0.0.9. https://github.com/SantanderMetGroup/transformeR/wiki.\n",
    "* Frías M.D., Iturbide M., Manzanas R., Bedia J., Fernández J., Herrera S., Cofiño A.S., Gutiérrez J.M., 2018. An R package to visualize and communicate uncertainty in seasonal climate prediction, Environmental Modelling & Software, 99, 101-110, https://doi.org/10.1016/j.envsoft.2017.09.008.\n",
    "* Gutiérrez J. M., Bedia J., Iturbide M., Herrera S., Manzanas R., Baño-Medina J., Frías M. D., San-Martín D., Fernández J., Cofiño A. S., 2018. Climate Research Reproducibility with the Climate4R R-based framework; 8 th International Workshop on Climate Information. Available on-line here: http://www.meteo.unican.es/work/climate4r/climate4r_CI2018.pdf\n",
    "* R Core Team, 2017. R: A language and environment for statistical computing. R Foundation for Statistical Computing, Vienna, Austria. URL https://www.R-project.org/.\n",
    "* Wickham, H., Hester, J. and Chang, W., 2018. `devtools`: Tools to Make Developing R Packages Easier. R package version 2.0.1. https://CRAN.R-project.org/package=devtools"
   ]
  },
  {
   "cell_type": "markdown",
   "metadata": {},
   "source": [
    "## Session Information and Package Versions"
   ]
  },
  {
   "cell_type": "code",
   "execution_count": null,
   "metadata": {
    "collapsed": true
   },
   "outputs": [],
   "source": [
    "print(sessionInfo(package = c(\"loadeR\", \"convertR\", \"transformeR\",\n",
    "                        \"visualizeR\", \"RColorBrewer\")))"
   ]
  }
 ],
 "metadata": {
  "kernelspec": {
   "display_name": "R",
   "language": "R",
   "name": "ir"
  }
 },
 "nbformat": 4,
 "nbformat_minor": 0
}
